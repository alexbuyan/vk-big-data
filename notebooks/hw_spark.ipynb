{
 "cells": [
  {
   "cell_type": "code",
   "execution_count": 1,
   "id": "f9d74895-eb3f-45f1-9d2f-9f8a3230e64c",
   "metadata": {},
   "outputs": [],
   "source": [
    "from pyspark import SparkConf\n",
    "from pyspark.sql import SparkSession\n",
    "from pyspark.sql import functions as f\n",
    "from pyspark.sql.types import *"
   ]
  },
  {
   "cell_type": "code",
   "execution_count": 2,
   "id": "74b92f0a-006a-4e83-868f-af7549c08a14",
   "metadata": {},
   "outputs": [
    {
     "name": "stdout",
     "output_type": "stream",
     "text": [
      "Safe mode is OFF\n"
     ]
    }
   ],
   "source": [
    "!hdfs dfsadmin -safemode leave"
   ]
  },
  {
   "cell_type": "code",
   "execution_count": 3,
   "id": "9b405a4e-a2b8-41f0-a65c-9bdb3db7ca0d",
   "metadata": {},
   "outputs": [
    {
     "name": "stdout",
     "output_type": "stream",
     "text": [
      "Deleted ml-latest-small\n"
     ]
    }
   ],
   "source": [
    "!hdfs dfs -rm -r ml-latest-small\n",
    "!hdfs dfs -put ml-latest-small ."
   ]
  },
  {
   "cell_type": "code",
   "execution_count": 4,
   "id": "7805a592-18fc-4530-b9c3-d7b696d36c35",
   "metadata": {},
   "outputs": [],
   "source": [
    "conf = SparkConf().set(\"spark.executor.instances\", \"2\").set(\"spark.executor.cores\", \"1\").set(\"spark.executor.memory\", \"1g\")"
   ]
  },
  {
   "cell_type": "code",
   "execution_count": 5,
   "id": "35cdbde5-15e9-4096-88c6-a1211ad074e6",
   "metadata": {},
   "outputs": [
    {
     "name": "stderr",
     "output_type": "stream",
     "text": [
      "Setting default log level to \"WARN\".\n",
      "To adjust logging level use sc.setLogLevel(newLevel). For SparkR, use setLogLevel(newLevel).\n",
      "23/12/15 17:25:06 WARN Client: Neither spark.yarn.jars nor spark.yarn.archive is set, falling back to uploading libraries under SPARK_HOME.\n"
     ]
    }
   ],
   "source": [
    "spark = SparkSession.builder.config(conf=conf).master(master=\"yarn\").appName(\"buyantuev_spark\").getOrCreate()"
   ]
  },
  {
   "cell_type": "code",
   "execution_count": 6,
   "id": "e68a7ecc-aa87-41eb-9a6e-4510c78b7626",
   "metadata": {},
   "outputs": [
    {
     "data": {
      "text/html": [
       "\n",
       "            <div>\n",
       "                <p><b>SparkSession - in-memory</b></p>\n",
       "                \n",
       "        <div>\n",
       "            <p><b>SparkContext</b></p>\n",
       "\n",
       "            <p><a href=\"http://df4aaff854bb:4040\">Spark UI</a></p>\n",
       "\n",
       "            <dl>\n",
       "              <dt>Version</dt>\n",
       "                <dd><code>v3.5.0</code></dd>\n",
       "              <dt>Master</dt>\n",
       "                <dd><code>yarn</code></dd>\n",
       "              <dt>AppName</dt>\n",
       "                <dd><code>buyantuev_spark</code></dd>\n",
       "            </dl>\n",
       "        </div>\n",
       "        \n",
       "            </div>\n",
       "        "
      ],
      "text/plain": [
       "<pyspark.sql.session.SparkSession at 0x7f0240e72e30>"
      ]
     },
     "execution_count": 6,
     "metadata": {},
     "output_type": "execute_result"
    }
   ],
   "source": [
    "spark"
   ]
  },
  {
   "cell_type": "markdown",
   "id": "2be02ccf-4385-4671-9808-1927c99924bb",
   "metadata": {},
   "source": [
    "### Скриншоты\n",
    "Скриншоты находятся в папке /notebooks/images"
   ]
  },
  {
   "cell_type": "markdown",
   "id": "258efd41-01c6-44f3-a3d4-83fc4c393b06",
   "metadata": {},
   "source": [
    "## Playground"
   ]
  },
  {
   "cell_type": "code",
   "execution_count": 7,
   "id": "c6db4e5a-a568-483d-8558-54fc43852ab1",
   "metadata": {},
   "outputs": [
    {
     "name": "stdout",
     "output_type": "stream",
     "text": [
      "CPU times: user 8.53 ms, sys: 4.53 ms, total: 13.1 ms\n",
      "Wall time: 7.98 s\n"
     ]
    }
   ],
   "source": [
    "%%time\n",
    "df = spark.range(int(1e6)).withColumn(\"value\", f.lit(\"some value\"))"
   ]
  },
  {
   "cell_type": "code",
   "execution_count": 8,
   "id": "fcf508b4-c558-4e2f-8078-f4c8fb6e8b55",
   "metadata": {},
   "outputs": [
    {
     "name": "stderr",
     "output_type": "stream",
     "text": [
      "[Stage 0:>                                                          (0 + 1) / 1]\r"
     ]
    },
    {
     "name": "stdout",
     "output_type": "stream",
     "text": [
      "+---+----------+\n",
      "| id|     value|\n",
      "+---+----------+\n",
      "|  0|some value|\n",
      "|  1|some value|\n",
      "|  2|some value|\n",
      "|  3|some value|\n",
      "|  4|some value|\n",
      "|  5|some value|\n",
      "|  6|some value|\n",
      "|  7|some value|\n",
      "|  8|some value|\n",
      "|  9|some value|\n",
      "| 10|some value|\n",
      "| 11|some value|\n",
      "| 12|some value|\n",
      "| 13|some value|\n",
      "| 14|some value|\n",
      "| 15|some value|\n",
      "| 16|some value|\n",
      "| 17|some value|\n",
      "| 18|some value|\n",
      "| 19|some value|\n",
      "+---+----------+\n",
      "only showing top 20 rows\n",
      "\n",
      "CPU times: user 9.83 ms, sys: 10.1 ms, total: 19.9 ms\n",
      "Wall time: 7.34 s\n"
     ]
    },
    {
     "name": "stderr",
     "output_type": "stream",
     "text": [
      "                                                                                \r"
     ]
    }
   ],
   "source": [
    "%%time\n",
    "df.show()"
   ]
  },
  {
   "cell_type": "markdown",
   "id": "ad45d519-7aff-47a3-b969-b638a63c7342",
   "metadata": {},
   "source": [
    "## Ratings and Tags"
   ]
  },
  {
   "cell_type": "code",
   "execution_count": 9,
   "id": "bece8a26-9434-4429-be73-292e1cb62528",
   "metadata": {},
   "outputs": [],
   "source": [
    "ratings_schema = StructType(fields=[\n",
    "    StructField(\"userId\", IntegerType()),\n",
    "    StructField(\"movieId\", IntegerType()),\n",
    "    StructField(\"rating\", DoubleType()),\n",
    "    StructField(\"timestamp\", LongType()),\n",
    "])\n",
    "\n",
    "ratings_df = spark.read.format(\"csv\").option(\"header\", \"True\").schema(ratings_schema).load(\"/ml-latest-small/ratings.csv\")"
   ]
  },
  {
   "cell_type": "code",
   "execution_count": 10,
   "id": "c9e59127-4d52-40c1-b4a6-5dbbba773bbc",
   "metadata": {},
   "outputs": [
    {
     "name": "stderr",
     "output_type": "stream",
     "text": [
      "[Stage 3:>                                                          (0 + 1) / 1]\r"
     ]
    },
    {
     "name": "stdout",
     "output_type": "stream",
     "text": [
      "CPU times: user 15.9 ms, sys: 12.6 ms, total: 28.6 ms\n",
      "Wall time: 8.38 s\n"
     ]
    },
    {
     "name": "stderr",
     "output_type": "stream",
     "text": [
      "                                                                                \r"
     ]
    },
    {
     "data": {
      "text/plain": [
       "100836"
      ]
     },
     "execution_count": 10,
     "metadata": {},
     "output_type": "execute_result"
    }
   ],
   "source": [
    "%%time\n",
    "ratings_df.count()"
   ]
  },
  {
   "cell_type": "code",
   "execution_count": 11,
   "id": "1a851848-e9b8-49e5-b813-0d77d3ed7317",
   "metadata": {},
   "outputs": [],
   "source": [
    "tags_schema = StructType(fields=[\n",
    "    StructField(\"userId\", IntegerType()),\n",
    "    StructField(\"movieId\", IntegerType()),\n",
    "    StructField(\"tag\", StringType()),\n",
    "    StructField(\"timestamp\", LongType()),\n",
    "])\n",
    "\n",
    "tags_df = spark.read.format(\"csv\").option(\"header\", \"True\").schema(tags_schema).load(\"/ml-latest-small/tags.csv\")"
   ]
  },
  {
   "cell_type": "code",
   "execution_count": 12,
   "id": "586d833c-fc50-45d2-87b0-6752fda59782",
   "metadata": {},
   "outputs": [
    {
     "name": "stderr",
     "output_type": "stream",
     "text": [
      "[Stage 4:>                                                          (0 + 1) / 1]\r"
     ]
    },
    {
     "name": "stdout",
     "output_type": "stream",
     "text": [
      "CPU times: user 12.8 ms, sys: 1.37 ms, total: 14.2 ms\n",
      "Wall time: 3.12 s\n"
     ]
    },
    {
     "name": "stderr",
     "output_type": "stream",
     "text": [
      "                                                                                \r"
     ]
    },
    {
     "data": {
      "text/plain": [
       "3683"
      ]
     },
     "execution_count": 12,
     "metadata": {},
     "output_type": "execute_result"
    }
   ],
   "source": [
    "%%time\n",
    "tags_df.count()"
   ]
  },
  {
   "cell_type": "markdown",
   "id": "0afffb40-0503-4516-a8f6-b2ce214cc6b1",
   "metadata": {},
   "source": [
    "### Все скриншоты находятся в соседней папке /images/block1"
   ]
  },
  {
   "cell_type": "markdown",
   "id": "db0184b6-cfc1-4e04-9425-4f40087a81e3",
   "metadata": {},
   "source": [
    "P.S. при этом запуске почему-то появились skipped stages, когда запускал команды `ratings_df.show()` и `tags_df.show()` такого не было"
   ]
  },
  {
   "cell_type": "markdown",
   "id": "63e68ebe-9f4b-4e8b-8394-cbfd9ed6160d",
   "metadata": {},
   "source": [
    "# Task 2"
   ]
  },
  {
   "cell_type": "code",
   "execution_count": 13,
   "id": "e37efac5-4c48-4890-b75e-a4c9b34af713",
   "metadata": {},
   "outputs": [
    {
     "name": "stdout",
     "output_type": "stream",
     "text": [
      "+------+-------+------+---------+\n",
      "|userId|movieId|rating|timestamp|\n",
      "+------+-------+------+---------+\n",
      "|     1|      1|   4.0|964982703|\n",
      "|     1|      3|   4.0|964981247|\n",
      "|     1|      6|   4.0|964982224|\n",
      "|     1|     47|   5.0|964983815|\n",
      "|     1|     50|   5.0|964982931|\n",
      "|     1|     70|   3.0|964982400|\n",
      "|     1|    101|   5.0|964980868|\n",
      "|     1|    110|   4.0|964982176|\n",
      "|     1|    151|   5.0|964984041|\n",
      "|     1|    157|   5.0|964984100|\n",
      "|     1|    163|   5.0|964983650|\n",
      "|     1|    216|   5.0|964981208|\n",
      "|     1|    223|   3.0|964980985|\n",
      "|     1|    231|   5.0|964981179|\n",
      "|     1|    235|   4.0|964980908|\n",
      "|     1|    260|   5.0|964981680|\n",
      "|     1|    296|   3.0|964982967|\n",
      "|     1|    316|   3.0|964982310|\n",
      "|     1|    333|   5.0|964981179|\n",
      "|     1|    349|   4.0|964982563|\n",
      "+------+-------+------+---------+\n",
      "only showing top 20 rows\n",
      "\n"
     ]
    }
   ],
   "source": [
    "ratings_df.show()"
   ]
  },
  {
   "cell_type": "code",
   "execution_count": 19,
   "id": "c4e15de9-35c9-4b51-8ef3-a15ad084b350",
   "metadata": {},
   "outputs": [
    {
     "data": {
      "text/plain": [
       "9724"
      ]
     },
     "execution_count": 19,
     "metadata": {},
     "output_type": "execute_result"
    }
   ],
   "source": [
    "# Посчитать количество уникальных фильмов и уникальных юзеров в таблице “ratings”. (5 баллов)\n",
    "ratings_df.select('movieId').distinct().count()"
   ]
  },
  {
   "cell_type": "code",
   "execution_count": 20,
   "id": "cbcc7bf6-884d-44cf-99b6-766835dcdf23",
   "metadata": {},
   "outputs": [
    {
     "data": {
      "text/plain": [
       "610"
      ]
     },
     "execution_count": 20,
     "metadata": {},
     "output_type": "execute_result"
    }
   ],
   "source": [
    "# Посчитать количество уникальных фильмов и уникальных юзеров в таблице “ratings”. (5 баллов)\n",
    "ratings_df.select('userId').distinct().count()"
   ]
  },
  {
   "cell_type": "code",
   "execution_count": 28,
   "id": "3e830519-b93b-4ccc-a998-c119d281258f",
   "metadata": {},
   "outputs": [
    {
     "data": {
      "text/plain": [
       "48580"
      ]
     },
     "execution_count": 28,
     "metadata": {},
     "output_type": "execute_result"
    }
   ],
   "source": [
    "# Посчитать, сколько было поставлено оценок >= 4.0. (5 баллов)\n",
    "ratings_df.select('rating').filter(f.col('rating') >= 4.0).count()"
   ]
  },
  {
   "cell_type": "code",
   "execution_count": 29,
   "id": "646f641a-693c-4669-b875-02fc48a25f20",
   "metadata": {},
   "outputs": [
    {
     "name": "stdout",
     "output_type": "stream",
     "text": [
      "+------+-------+------+---------+\n",
      "|userId|movieId|rating|timestamp|\n",
      "+------+-------+------+---------+\n",
      "|     1|   1617|   5.0|964982951|\n",
      "|     1|   1625|   5.0|964983504|\n",
      "|     1|     47|   5.0|964983815|\n",
      "|     1|   1732|   5.0|964981125|\n",
      "|     1|    101|   5.0|964980868|\n",
      "|     1|   1804|   5.0|964983034|\n",
      "|     1|    157|   5.0|964984100|\n",
      "|     1|   1927|   5.0|964981497|\n",
      "|     1|    216|   5.0|964981208|\n",
      "|     1|   1954|   5.0|964982176|\n",
      "|     1|    260|   5.0|964981680|\n",
      "|     1|   2005|   5.0|964981710|\n",
      "|     1|    362|   5.0|964982588|\n",
      "|     1|   2018|   5.0|964980523|\n",
      "|     1|    527|   5.0|964984002|\n",
      "|     1|   2033|   5.0|964982903|\n",
      "|     1|    596|   5.0|964982838|\n",
      "|     1|   2048|   5.0|964982791|\n",
      "|     1|    661|   5.0|964982838|\n",
      "|     1|   2058|   5.0|964982400|\n",
      "|     1|    923|   5.0|964981529|\n",
      "|     1|   2078|   5.0|964982838|\n",
      "|     1|    954|   5.0|964983219|\n",
      "|     1|   2090|   5.0|964982838|\n",
      "|     1|   1024|   5.0|964982876|\n",
      "|     1|   2094|   5.0|964982653|\n",
      "|     1|   1029|   5.0|964982855|\n",
      "|     1|   2115|   5.0|964982529|\n",
      "|     1|   1032|   5.0|964982791|\n",
      "|     1|   2116|   5.0|964982876|\n",
      "|     1|   1073|   5.0|964981680|\n",
      "|     1|   2137|   5.0|964982791|\n",
      "|     1|   1089|   5.0|964982951|\n",
      "|     1|   2139|   5.0|964982791|\n",
      "|     1|   1097|   5.0|964981680|\n",
      "|     1|   2141|   5.0|964982838|\n",
      "|     1|   1196|   5.0|964981827|\n",
      "|     1|   2161|   5.0|964981710|\n",
      "|     1|   1198|   5.0|964981827|\n",
      "|     1|   2291|   5.0|964983664|\n",
      "|     1|   1210|   5.0|964980499|\n",
      "|     1|   2329|   5.0|964983263|\n",
      "|     1|   1220|   5.0|964981909|\n",
      "|     1|   2353|   5.0|964983861|\n",
      "|     1|   1224|   5.0|964984018|\n",
      "|     1|   2387|   5.0|964983123|\n",
      "|     1|   1240|   5.0|964983723|\n",
      "|     1|   2395|   5.0|964981093|\n",
      "|     1|   1270|   5.0|964983705|\n",
      "|     1|   2427|   5.0|964982242|\n",
      "|     1|   1278|   5.0|964983414|\n",
      "|     1|   2459|   5.0|964983414|\n",
      "|     1|   1291|   5.0|964981909|\n",
      "|     1|   2470|   5.0|964982588|\n",
      "|     1|   1517|   5.0|964981107|\n",
      "|     1|   2502|   5.0|964981278|\n",
      "|     1|   1587|   5.0|964982346|\n",
      "|     1|   2529|   5.0|964982242|\n",
      "|     1|     50|   5.0|964982931|\n",
      "|     1|   2542|   5.0|964981265|\n",
      "|     1|    163|   5.0|964983650|\n",
      "|     1|   2571|   5.0|964981888|\n",
      "|     1|    333|   5.0|964981179|\n",
      "|     1|   2580|   5.0|964983000|\n",
      "|     1|    553|   5.0|964984153|\n",
      "|     1|   2596|   5.0|964981144|\n",
      "|     1|    919|   5.0|964982475|\n",
      "|     1|   2641|   5.0|964982620|\n",
      "|     1|   1023|   5.0|964982681|\n",
      "|     1|   2654|   5.0|964983393|\n",
      "|     1|   1031|   5.0|964982653|\n",
      "|     1|   2692|   5.0|964981855|\n",
      "|     1|   1080|   5.0|964981327|\n",
      "|     1|   2700|   5.0|964980985|\n",
      "|     1|   1136|   5.0|964981327|\n",
      "|     1|   2716|   5.0|964983414|\n",
      "|     1|   1206|   5.0|964983737|\n",
      "|     1|   2761|   5.0|964982703|\n",
      "|     1|   1222|   5.0|964981909|\n",
      "|     1|   2858|   5.0|964980868|\n",
      "|     1|   1256|   5.0|964981442|\n",
      "|     1|   2872|   5.0|964981680|\n",
      "|     1|   1282|   5.0|964982703|\n",
      "|     1|   2899|   5.0|964982703|\n",
      "|     1|   1573|   5.0|964982290|\n",
      "|     1|   2944|   5.0|964981872|\n",
      "|     1|    151|   5.0|964984041|\n",
      "|     1|   2947|   5.0|964982176|\n",
      "|     1|    457|   5.0|964981909|\n",
      "|     1|   2948|   5.0|964982191|\n",
      "|     1|    940|   5.0|964982176|\n",
      "|     1|   2949|   5.0|964981888|\n",
      "|     1|   1049|   5.0|964982400|\n",
      "|     1|   2959|   5.0|964983282|\n",
      "|     1|   1197|   5.0|964981872|\n",
      "|     1|   2987|   5.0|964982495|\n",
      "|     1|   1226|   5.0|964983618|\n",
      "|     1|   2991|   5.0|964982271|\n",
      "|     1|   1298|   5.0|964984086|\n",
      "|     1|   2993|   5.0|964982242|\n",
      "+------+-------+------+---------+\n",
      "only showing top 100 rows\n",
      "\n"
     ]
    }
   ],
   "source": [
    "# Вывести топ100 фильмов с самым высоким рейтингом. (6 баллов)\n",
    "ratings_df.sort(f.col('rating').desc()).show(n=100)"
   ]
  },
  {
   "cell_type": "code",
   "execution_count": 40,
   "id": "9a87c408-b16c-41c3-aa83-c7dab94c468e",
   "metadata": {},
   "outputs": [],
   "source": [
    "# Посчитать разницу во времени в секундах между временем тегирования \n",
    "# пользователя данного фильма и временем, когда пользователь поставил оценку фильму.\n",
    "# В качестве ответа выведете среднюю дельту по времени. (7 баллов)"
   ]
  },
  {
   "cell_type": "code",
   "execution_count": 41,
   "id": "7d68c2ef-e720-4b3d-8379-f26901d6629d",
   "metadata": {},
   "outputs": [],
   "source": [
    "ratings_tags_df = ratings_df.alias('rating').join(tags_df.alias('tag'), how='inner', on=['userId', 'movieId'])"
   ]
  },
  {
   "cell_type": "code",
   "execution_count": 42,
   "id": "f9735e96-f4ed-49ad-8325-35c8e93ab0ec",
   "metadata": {},
   "outputs": [
    {
     "name": "stdout",
     "output_type": "stream",
     "text": [
      "+------+-------+------+----------+-----------------+----------+\n",
      "|userId|movieId|rating| timestamp|              tag| timestamp|\n",
      "+------+-------+------+----------+-----------------+----------+\n",
      "|     2|  60756|   5.0|1445714980|     will ferrell|1445714992|\n",
      "|     2|  60756|   5.0|1445714980|  Highly quotable|1445714996|\n",
      "|     2|  60756|   5.0|1445714980|            funny|1445714994|\n",
      "|     2|  89774|   5.0|1445715189|        Tom Hardy|1445715205|\n",
      "|     2|  89774|   5.0|1445715189|              MMA|1445715200|\n",
      "|     2|  89774|   5.0|1445715189|     Boxing story|1445715207|\n",
      "|     2| 106782|   5.0|1445714966|  Martin Scorsese|1445715056|\n",
      "|     2| 106782|   5.0|1445714966|Leonardo DiCaprio|1445715051|\n",
      "|     2| 106782|   5.0|1445714966|            drugs|1445715054|\n",
      "|     7|  48516|   1.0|1169687318|     way too long|1169687325|\n",
      "|    18|    431|   4.0|1462138790|            mafia|1462138755|\n",
      "|    18|    431|   4.0|1462138790|         gangster|1462138749|\n",
      "|    18|    431|   4.0|1462138790|        Al Pacino|1462138765|\n",
      "|    18|   1221|   5.0|1460242083|            Mafia|1461699303|\n",
      "|    18|   1221|   5.0|1460242083|        Al Pacino|1461699306|\n",
      "|    18|   5995|   4.5|1455735416|       true story|1455735479|\n",
      "|    18|   5995|   4.5|1455735416|        holocaust|1455735472|\n",
      "|    18|  44665|   4.5|1455049870|     twist ending|1456948283|\n",
      "|    18|  52604|   4.5|1457650649|     twist ending|1457650682|\n",
      "|    18|  52604|   4.5|1457650649|  courtroom drama|1457650711|\n",
      "+------+-------+------+----------+-----------------+----------+\n",
      "only showing top 20 rows\n",
      "\n"
     ]
    }
   ],
   "source": [
    "ratings_tags_df.show()"
   ]
  },
  {
   "cell_type": "code",
   "execution_count": 43,
   "id": "d206a7a7-4212-4da3-82e4-c36138d1e64d",
   "metadata": {},
   "outputs": [],
   "source": [
    "timestamp_diff_df = ratings_tags_df.select(\n",
    "    f.col('rating.timestamp').alias('rating_timestamp'), \n",
    "    f.col('tag.timestamp').alias('tag_timestamp'),\n",
    "    (f.col('tag.timestamp') - f.col('rating.timestamp')).alias('timestamp_diff')\n",
    ")"
   ]
  },
  {
   "cell_type": "code",
   "execution_count": 44,
   "id": "9da80d6c-809c-47ae-a442-9a15dcddb35f",
   "metadata": {},
   "outputs": [
    {
     "name": "stdout",
     "output_type": "stream",
     "text": [
      "+----------------+-------------+--------------+\n",
      "|rating_timestamp|tag_timestamp|timestamp_diff|\n",
      "+----------------+-------------+--------------+\n",
      "|      1445714980|   1445714992|            12|\n",
      "|      1445714980|   1445714996|            16|\n",
      "|      1445714980|   1445714994|            14|\n",
      "|      1445715189|   1445715205|            16|\n",
      "|      1445715189|   1445715200|            11|\n",
      "|      1445715189|   1445715207|            18|\n",
      "|      1445714966|   1445715056|            90|\n",
      "|      1445714966|   1445715051|            85|\n",
      "|      1445714966|   1445715054|            88|\n",
      "|      1169687318|   1169687325|             7|\n",
      "|      1462138790|   1462138755|           -35|\n",
      "|      1462138790|   1462138749|           -41|\n",
      "|      1462138790|   1462138765|           -25|\n",
      "|      1460242083|   1461699303|       1457220|\n",
      "|      1460242083|   1461699306|       1457223|\n",
      "|      1455735416|   1455735479|            63|\n",
      "|      1455735416|   1455735472|            56|\n",
      "|      1455049870|   1456948283|       1898413|\n",
      "|      1457650649|   1457650682|            33|\n",
      "|      1457650649|   1457650711|            62|\n",
      "+----------------+-------------+--------------+\n",
      "only showing top 20 rows\n",
      "\n"
     ]
    }
   ],
   "source": [
    "timestamp_diff_df.show()"
   ]
  },
  {
   "cell_type": "code",
   "execution_count": 53,
   "id": "9b186d9a-3c05-41d5-b8a2-166a3b1d851b",
   "metadata": {},
   "outputs": [
    {
     "name": "stdout",
     "output_type": "stream",
     "text": [
      "+---------------------+\n",
      "|avg_timestamp_seconds|\n",
      "+---------------------+\n",
      "|   26243.727372266974|\n",
      "+---------------------+\n",
      "\n"
     ]
    }
   ],
   "source": [
    "# / 1e3 для того чтобы преобразовать в секунды из мс\n",
    "timestamp_diff_df.select((f.avg('timestamp_diff') / 1e3).alias('avg_timestamp_seconds')).show()"
   ]
  },
  {
   "cell_type": "code",
   "execution_count": 52,
   "id": "3df321a5-c96b-467d-9a8e-5987519532c8",
   "metadata": {},
   "outputs": [],
   "source": [
    "# Посчитать среднюю оценку от каждого пользователя, в качестве ответа выведете \n",
    "# среднее от всех усредненных оценок всех пользователей. (7 баллов)"
   ]
  },
  {
   "cell_type": "code",
   "execution_count": 64,
   "id": "687f8632-3760-44e9-a1a2-205e48b2e183",
   "metadata": {},
   "outputs": [
    {
     "name": "stdout",
     "output_type": "stream",
     "text": [
      "+------+------------------+\n",
      "|userId|       avg(rating)|\n",
      "+------+------------------+\n",
      "|   148|3.7395833333333335|\n",
      "|   463| 3.787878787878788|\n",
      "|   471|             3.875|\n",
      "|   496| 3.413793103448276|\n",
      "|   243| 4.138888888888889|\n",
      "|   392|               3.2|\n",
      "|   540|               4.0|\n",
      "|    31|              3.92|\n",
      "|   516|3.6923076923076925|\n",
      "|    85|3.7058823529411766|\n",
      "|   137| 3.978723404255319|\n",
      "|   251| 4.869565217391305|\n",
      "|   451|3.7941176470588234|\n",
      "|   580| 3.529816513761468|\n",
      "|    65| 4.029411764705882|\n",
      "|   458|4.1525423728813555|\n",
      "|    53|               5.0|\n",
      "|   255|2.5681818181818183|\n",
      "|   481| 2.806451612903226|\n",
      "|   588|              3.25|\n",
      "+------+------------------+\n",
      "only showing top 20 rows\n",
      "\n"
     ]
    }
   ],
   "source": [
    "avg_ratings = ratings_df.groupBy('userId').avg('rating')\n",
    "avg_ratings.show()"
   ]
  },
  {
   "cell_type": "code",
   "execution_count": 71,
   "id": "bad61acf-b875-4707-ad54-b1d9a3f7a863",
   "metadata": {},
   "outputs": [
    {
     "name": "stdout",
     "output_type": "stream",
     "text": [
      "+------------------+\n",
      "|  avg(avg(rating))|\n",
      "+------------------+\n",
      "|3.6572223377474016|\n",
      "+------------------+\n",
      "\n"
     ]
    }
   ],
   "source": [
    "avg_ratings.agg(f.avg('avg(rating)')).show()"
   ]
  },
  {
   "cell_type": "markdown",
   "id": "6945256d-3baf-4716-bde5-e1640d4e9313",
   "metadata": {},
   "source": [
    "# Task 3"
   ]
  },
  {
   "cell_type": "code",
   "execution_count": 72,
   "id": "fe3e7f89-26af-422f-b7e9-e92931c9635c",
   "metadata": {},
   "outputs": [
    {
     "name": "stdout",
     "output_type": "stream",
     "text": [
      "+------+-------+------+----------+-----------------+----------+\n",
      "|userId|movieId|rating| timestamp|              tag| timestamp|\n",
      "+------+-------+------+----------+-----------------+----------+\n",
      "|     2|  60756|   5.0|1445714980|     will ferrell|1445714992|\n",
      "|     2|  60756|   5.0|1445714980|  Highly quotable|1445714996|\n",
      "|     2|  60756|   5.0|1445714980|            funny|1445714994|\n",
      "|     2|  89774|   5.0|1445715189|        Tom Hardy|1445715205|\n",
      "|     2|  89774|   5.0|1445715189|              MMA|1445715200|\n",
      "|     2|  89774|   5.0|1445715189|     Boxing story|1445715207|\n",
      "|     2| 106782|   5.0|1445714966|  Martin Scorsese|1445715056|\n",
      "|     2| 106782|   5.0|1445714966|Leonardo DiCaprio|1445715051|\n",
      "|     2| 106782|   5.0|1445714966|            drugs|1445715054|\n",
      "|     7|  48516|   1.0|1169687318|     way too long|1169687325|\n",
      "|    18|    431|   4.0|1462138790|            mafia|1462138755|\n",
      "|    18|    431|   4.0|1462138790|         gangster|1462138749|\n",
      "|    18|    431|   4.0|1462138790|        Al Pacino|1462138765|\n",
      "|    18|   1221|   5.0|1460242083|            Mafia|1461699303|\n",
      "|    18|   1221|   5.0|1460242083|        Al Pacino|1461699306|\n",
      "|    18|   5995|   4.5|1455735416|       true story|1455735479|\n",
      "|    18|   5995|   4.5|1455735416|        holocaust|1455735472|\n",
      "|    18|  44665|   4.5|1455049870|     twist ending|1456948283|\n",
      "|    18|  52604|   4.5|1457650649|     twist ending|1457650682|\n",
      "|    18|  52604|   4.5|1457650649|  courtroom drama|1457650711|\n",
      "+------+-------+------+----------+-----------------+----------+\n",
      "only showing top 20 rows\n",
      "\n"
     ]
    }
   ],
   "source": [
    "ratings_tags_df.show()"
   ]
  },
  {
   "cell_type": "code",
   "execution_count": 73,
   "id": "60c6e2ad-1f60-41ba-b98e-417577c282d5",
   "metadata": {},
   "outputs": [
    {
     "data": {
      "text/html": [
       "<div>\n",
       "<style scoped>\n",
       "    .dataframe tbody tr th:only-of-type {\n",
       "        vertical-align: middle;\n",
       "    }\n",
       "\n",
       "    .dataframe tbody tr th {\n",
       "        vertical-align: top;\n",
       "    }\n",
       "\n",
       "    .dataframe thead th {\n",
       "        text-align: right;\n",
       "    }\n",
       "</style>\n",
       "<table border=\"1\" class=\"dataframe\">\n",
       "  <thead>\n",
       "    <tr style=\"text-align: right;\">\n",
       "      <th></th>\n",
       "      <th>tag</th>\n",
       "      <th>rating</th>\n",
       "    </tr>\n",
       "  </thead>\n",
       "  <tbody>\n",
       "    <tr>\n",
       "      <th>0</th>\n",
       "      <td>will ferrell</td>\n",
       "      <td>5.0</td>\n",
       "    </tr>\n",
       "    <tr>\n",
       "      <th>1</th>\n",
       "      <td>Highly quotable</td>\n",
       "      <td>5.0</td>\n",
       "    </tr>\n",
       "    <tr>\n",
       "      <th>2</th>\n",
       "      <td>funny</td>\n",
       "      <td>5.0</td>\n",
       "    </tr>\n",
       "    <tr>\n",
       "      <th>3</th>\n",
       "      <td>Tom Hardy</td>\n",
       "      <td>5.0</td>\n",
       "    </tr>\n",
       "    <tr>\n",
       "      <th>4</th>\n",
       "      <td>MMA</td>\n",
       "      <td>5.0</td>\n",
       "    </tr>\n",
       "  </tbody>\n",
       "</table>\n",
       "</div>"
      ],
      "text/plain": [
       "               tag  rating\n",
       "0     will ferrell     5.0\n",
       "1  Highly quotable     5.0\n",
       "2            funny     5.0\n",
       "3        Tom Hardy     5.0\n",
       "4              MMA     5.0"
      ]
     },
     "execution_count": 73,
     "metadata": {},
     "output_type": "execute_result"
    }
   ],
   "source": [
    "tag_rating_df = ratings_tags_df.select('tag', 'rating')\n",
    "tag_rating_pdf = tag_rating_df.toPandas()\n",
    "tag_rating_pdf.head()"
   ]
  },
  {
   "cell_type": "code",
   "execution_count": 74,
   "id": "a16c9ae2-70e2-4ade-80dc-4f462ecb95e0",
   "metadata": {},
   "outputs": [],
   "source": [
    "from sklearn.feature_extraction.text import TfidfVectorizer\n",
    "from sklearn.linear_model import SGDRegressor"
   ]
  },
  {
   "cell_type": "code",
   "execution_count": 83,
   "id": "ba7b005a-2f3c-4993-ac3a-c1e6f18e300a",
   "metadata": {},
   "outputs": [
    {
     "data": {
      "text/html": [
       "<style>#sk-container-id-3 {color: black;}#sk-container-id-3 pre{padding: 0;}#sk-container-id-3 div.sk-toggleable {background-color: white;}#sk-container-id-3 label.sk-toggleable__label {cursor: pointer;display: block;width: 100%;margin-bottom: 0;padding: 0.3em;box-sizing: border-box;text-align: center;}#sk-container-id-3 label.sk-toggleable__label-arrow:before {content: \"▸\";float: left;margin-right: 0.25em;color: #696969;}#sk-container-id-3 label.sk-toggleable__label-arrow:hover:before {color: black;}#sk-container-id-3 div.sk-estimator:hover label.sk-toggleable__label-arrow:before {color: black;}#sk-container-id-3 div.sk-toggleable__content {max-height: 0;max-width: 0;overflow: hidden;text-align: left;background-color: #f0f8ff;}#sk-container-id-3 div.sk-toggleable__content pre {margin: 0.2em;color: black;border-radius: 0.25em;background-color: #f0f8ff;}#sk-container-id-3 input.sk-toggleable__control:checked~div.sk-toggleable__content {max-height: 200px;max-width: 100%;overflow: auto;}#sk-container-id-3 input.sk-toggleable__control:checked~label.sk-toggleable__label-arrow:before {content: \"▾\";}#sk-container-id-3 div.sk-estimator input.sk-toggleable__control:checked~label.sk-toggleable__label {background-color: #d4ebff;}#sk-container-id-3 div.sk-label input.sk-toggleable__control:checked~label.sk-toggleable__label {background-color: #d4ebff;}#sk-container-id-3 input.sk-hidden--visually {border: 0;clip: rect(1px 1px 1px 1px);clip: rect(1px, 1px, 1px, 1px);height: 1px;margin: -1px;overflow: hidden;padding: 0;position: absolute;width: 1px;}#sk-container-id-3 div.sk-estimator {font-family: monospace;background-color: #f0f8ff;border: 1px dotted black;border-radius: 0.25em;box-sizing: border-box;margin-bottom: 0.5em;}#sk-container-id-3 div.sk-estimator:hover {background-color: #d4ebff;}#sk-container-id-3 div.sk-parallel-item::after {content: \"\";width: 100%;border-bottom: 1px solid gray;flex-grow: 1;}#sk-container-id-3 div.sk-label:hover label.sk-toggleable__label {background-color: #d4ebff;}#sk-container-id-3 div.sk-serial::before {content: \"\";position: absolute;border-left: 1px solid gray;box-sizing: border-box;top: 0;bottom: 0;left: 50%;z-index: 0;}#sk-container-id-3 div.sk-serial {display: flex;flex-direction: column;align-items: center;background-color: white;padding-right: 0.2em;padding-left: 0.2em;position: relative;}#sk-container-id-3 div.sk-item {position: relative;z-index: 1;}#sk-container-id-3 div.sk-parallel {display: flex;align-items: stretch;justify-content: center;background-color: white;position: relative;}#sk-container-id-3 div.sk-item::before, #sk-container-id-3 div.sk-parallel-item::before {content: \"\";position: absolute;border-left: 1px solid gray;box-sizing: border-box;top: 0;bottom: 0;left: 50%;z-index: -1;}#sk-container-id-3 div.sk-parallel-item {display: flex;flex-direction: column;z-index: 1;position: relative;background-color: white;}#sk-container-id-3 div.sk-parallel-item:first-child::after {align-self: flex-end;width: 50%;}#sk-container-id-3 div.sk-parallel-item:last-child::after {align-self: flex-start;width: 50%;}#sk-container-id-3 div.sk-parallel-item:only-child::after {width: 0;}#sk-container-id-3 div.sk-dashed-wrapped {border: 1px dashed gray;margin: 0 0.4em 0.5em 0.4em;box-sizing: border-box;padding-bottom: 0.4em;background-color: white;}#sk-container-id-3 div.sk-label label {font-family: monospace;font-weight: bold;display: inline-block;line-height: 1.2em;}#sk-container-id-3 div.sk-label-container {text-align: center;}#sk-container-id-3 div.sk-container {/* jupyter's `normalize.less` sets `[hidden] { display: none; }` but bootstrap.min.css set `[hidden] { display: none !important; }` so we also need the `!important` here to be able to override the default hidden behavior on the sphinx rendered scikit-learn.org. See: https://github.com/scikit-learn/scikit-learn/issues/21755 */display: inline-block !important;position: relative;}#sk-container-id-3 div.sk-text-repr-fallback {display: none;}</style><div id=\"sk-container-id-3\" class=\"sk-top-container\"><div class=\"sk-text-repr-fallback\"><pre>TfidfVectorizer()</pre><b>In a Jupyter environment, please rerun this cell to show the HTML representation or trust the notebook. <br />On GitHub, the HTML representation is unable to render, please try loading this page with nbviewer.org.</b></div><div class=\"sk-container\" hidden><div class=\"sk-item\"><div class=\"sk-estimator sk-toggleable\"><input class=\"sk-toggleable__control sk-hidden--visually\" id=\"sk-estimator-id-3\" type=\"checkbox\" checked><label for=\"sk-estimator-id-3\" class=\"sk-toggleable__label sk-toggleable__label-arrow\">TfidfVectorizer</label><div class=\"sk-toggleable__content\"><pre>TfidfVectorizer()</pre></div></div></div></div></div>"
      ],
      "text/plain": [
       "TfidfVectorizer()"
      ]
     },
     "execution_count": 83,
     "metadata": {},
     "output_type": "execute_result"
    }
   ],
   "source": [
    "# fit vectorizer on tags\n",
    "tfidf_vectorizer = TfidfVectorizer()\n",
    "tfidf_vectorizer.fit(tag_rating_pdf['tag'])"
   ]
  },
  {
   "cell_type": "code",
   "execution_count": 84,
   "id": "77b2bd14-3126-4f06-aea9-c96ebde9e894",
   "metadata": {},
   "outputs": [],
   "source": [
    "# extract features\n",
    "features = tfidf_vectorizer.transform(tag_rating_pdf['tag'])"
   ]
  },
  {
   "cell_type": "code",
   "execution_count": 85,
   "id": "c995c76e-9c87-40f4-ad55-e76e85690f4a",
   "metadata": {},
   "outputs": [
    {
     "data": {
      "text/html": [
       "<style>#sk-container-id-4 {color: black;}#sk-container-id-4 pre{padding: 0;}#sk-container-id-4 div.sk-toggleable {background-color: white;}#sk-container-id-4 label.sk-toggleable__label {cursor: pointer;display: block;width: 100%;margin-bottom: 0;padding: 0.3em;box-sizing: border-box;text-align: center;}#sk-container-id-4 label.sk-toggleable__label-arrow:before {content: \"▸\";float: left;margin-right: 0.25em;color: #696969;}#sk-container-id-4 label.sk-toggleable__label-arrow:hover:before {color: black;}#sk-container-id-4 div.sk-estimator:hover label.sk-toggleable__label-arrow:before {color: black;}#sk-container-id-4 div.sk-toggleable__content {max-height: 0;max-width: 0;overflow: hidden;text-align: left;background-color: #f0f8ff;}#sk-container-id-4 div.sk-toggleable__content pre {margin: 0.2em;color: black;border-radius: 0.25em;background-color: #f0f8ff;}#sk-container-id-4 input.sk-toggleable__control:checked~div.sk-toggleable__content {max-height: 200px;max-width: 100%;overflow: auto;}#sk-container-id-4 input.sk-toggleable__control:checked~label.sk-toggleable__label-arrow:before {content: \"▾\";}#sk-container-id-4 div.sk-estimator input.sk-toggleable__control:checked~label.sk-toggleable__label {background-color: #d4ebff;}#sk-container-id-4 div.sk-label input.sk-toggleable__control:checked~label.sk-toggleable__label {background-color: #d4ebff;}#sk-container-id-4 input.sk-hidden--visually {border: 0;clip: rect(1px 1px 1px 1px);clip: rect(1px, 1px, 1px, 1px);height: 1px;margin: -1px;overflow: hidden;padding: 0;position: absolute;width: 1px;}#sk-container-id-4 div.sk-estimator {font-family: monospace;background-color: #f0f8ff;border: 1px dotted black;border-radius: 0.25em;box-sizing: border-box;margin-bottom: 0.5em;}#sk-container-id-4 div.sk-estimator:hover {background-color: #d4ebff;}#sk-container-id-4 div.sk-parallel-item::after {content: \"\";width: 100%;border-bottom: 1px solid gray;flex-grow: 1;}#sk-container-id-4 div.sk-label:hover label.sk-toggleable__label {background-color: #d4ebff;}#sk-container-id-4 div.sk-serial::before {content: \"\";position: absolute;border-left: 1px solid gray;box-sizing: border-box;top: 0;bottom: 0;left: 50%;z-index: 0;}#sk-container-id-4 div.sk-serial {display: flex;flex-direction: column;align-items: center;background-color: white;padding-right: 0.2em;padding-left: 0.2em;position: relative;}#sk-container-id-4 div.sk-item {position: relative;z-index: 1;}#sk-container-id-4 div.sk-parallel {display: flex;align-items: stretch;justify-content: center;background-color: white;position: relative;}#sk-container-id-4 div.sk-item::before, #sk-container-id-4 div.sk-parallel-item::before {content: \"\";position: absolute;border-left: 1px solid gray;box-sizing: border-box;top: 0;bottom: 0;left: 50%;z-index: -1;}#sk-container-id-4 div.sk-parallel-item {display: flex;flex-direction: column;z-index: 1;position: relative;background-color: white;}#sk-container-id-4 div.sk-parallel-item:first-child::after {align-self: flex-end;width: 50%;}#sk-container-id-4 div.sk-parallel-item:last-child::after {align-self: flex-start;width: 50%;}#sk-container-id-4 div.sk-parallel-item:only-child::after {width: 0;}#sk-container-id-4 div.sk-dashed-wrapped {border: 1px dashed gray;margin: 0 0.4em 0.5em 0.4em;box-sizing: border-box;padding-bottom: 0.4em;background-color: white;}#sk-container-id-4 div.sk-label label {font-family: monospace;font-weight: bold;display: inline-block;line-height: 1.2em;}#sk-container-id-4 div.sk-label-container {text-align: center;}#sk-container-id-4 div.sk-container {/* jupyter's `normalize.less` sets `[hidden] { display: none; }` but bootstrap.min.css set `[hidden] { display: none !important; }` so we also need the `!important` here to be able to override the default hidden behavior on the sphinx rendered scikit-learn.org. See: https://github.com/scikit-learn/scikit-learn/issues/21755 */display: inline-block !important;position: relative;}#sk-container-id-4 div.sk-text-repr-fallback {display: none;}</style><div id=\"sk-container-id-4\" class=\"sk-top-container\"><div class=\"sk-text-repr-fallback\"><pre>SGDRegressor()</pre><b>In a Jupyter environment, please rerun this cell to show the HTML representation or trust the notebook. <br />On GitHub, the HTML representation is unable to render, please try loading this page with nbviewer.org.</b></div><div class=\"sk-container\" hidden><div class=\"sk-item\"><div class=\"sk-estimator sk-toggleable\"><input class=\"sk-toggleable__control sk-hidden--visually\" id=\"sk-estimator-id-4\" type=\"checkbox\" checked><label for=\"sk-estimator-id-4\" class=\"sk-toggleable__label sk-toggleable__label-arrow\">SGDRegressor</label><div class=\"sk-toggleable__content\"><pre>SGDRegressor()</pre></div></div></div></div></div>"
      ],
      "text/plain": [
       "SGDRegressor()"
      ]
     },
     "execution_count": 85,
     "metadata": {},
     "output_type": "execute_result"
    }
   ],
   "source": [
    "# fit regressor\n",
    "sgd_regressor = SGDRegressor()\n",
    "sgd_regressor.fit(features, tag_rating_pdf['rating'])"
   ]
  },
  {
   "cell_type": "code",
   "execution_count": 133,
   "id": "cf70c3f1-51f2-42f4-8eb7-6a05d9e4890e",
   "metadata": {},
   "outputs": [],
   "source": [
    "# predict rating\n",
    "@f.udf(DoubleType())\n",
    "def predict_ratings(tags):\n",
    "    features = tfidf_vectorizer.transform([tags])\n",
    "    pred_ratings = sgd_regressor.predict(features)\n",
    "    return pred_ratings.item()"
   ]
  },
  {
   "cell_type": "code",
   "execution_count": 134,
   "id": "eea92446-8fec-4d7c-87ea-01d462b9ee9c",
   "metadata": {},
   "outputs": [],
   "source": [
    "pred_ratings = predict_ratings(f.col('tag'))"
   ]
  },
  {
   "cell_type": "code",
   "execution_count": 135,
   "id": "ebbfb46d-bc23-4dfe-915a-08ec17fb0574",
   "metadata": {},
   "outputs": [],
   "source": [
    "tag_rating_pred_df = tag_rating_df.withColumn('pred_rating', pred_ratings)"
   ]
  },
  {
   "cell_type": "code",
   "execution_count": 142,
   "id": "530a882b-28f4-4291-b55b-c6fcf8f3f604",
   "metadata": {},
   "outputs": [
    {
     "name": "stderr",
     "output_type": "stream",
     "text": [
      "[Stage 132:>                                                        (0 + 1) / 1]\r"
     ]
    },
    {
     "name": "stdout",
     "output_type": "stream",
     "text": [
      "+--------------------+------+------------------+\n",
      "|                 tag|rating|       pred_rating|\n",
      "+--------------------+------+------------------+\n",
      "|        will ferrell|   5.0| 4.031698632075657|\n",
      "|     Highly quotable|   5.0| 3.947672391325878|\n",
      "|               funny|   5.0| 4.366629736064444|\n",
      "|           Tom Hardy|   5.0|3.8392031080428284|\n",
      "|                 MMA|   5.0| 3.420916147368894|\n",
      "|        Boxing story|   5.0| 3.925578391957534|\n",
      "|     Martin Scorsese|   5.0| 3.850810963585713|\n",
      "|   Leonardo DiCaprio|   5.0| 4.247305779367469|\n",
      "|               drugs|   5.0|4.3038837673231205|\n",
      "|        way too long|   1.0|3.4290982787726616|\n",
      "|               mafia|   4.0| 4.159357567358086|\n",
      "|            gangster|   4.0| 3.623891768880919|\n",
      "|           Al Pacino|   4.0|  3.86081795770398|\n",
      "|               Mafia|   5.0| 4.159357567358086|\n",
      "|           Al Pacino|   5.0|  3.86081795770398|\n",
      "|          true story|   4.5|3.8517460702505626|\n",
      "|           holocaust|   4.5|3.9723142370643676|\n",
      "|        twist ending|   4.5| 4.839871660730036|\n",
      "|        twist ending|   4.5| 4.839871660730036|\n",
      "|     courtroom drama|   4.5|3.8440968708381007|\n",
      "|     Anthony Hopkins|   4.5|3.3834948580908226|\n",
      "|               music|   3.0| 4.293525243118055|\n",
      "|  indie record label|   3.0|3.2707042982521344|\n",
      "|             britpop|   3.0|3.2700159063981857|\n",
      "|      Sustainability|   4.0| 3.346137836013533|\n",
      "|     dumpster diving|   4.0|3.3455002121655895|\n",
      "|              bloody|   0.5|3.5287403060086295|\n",
      "|         time-travel|   4.5| 4.234030670745482|\n",
      "|              sci-fi|   4.5| 4.292870805081862|\n",
      "|          black hole|   4.5| 3.858421508209351|\n",
      "|      Robin Williams|   4.0|3.7045734752162587|\n",
      "|    magic board game|   4.0| 3.747633533098228|\n",
      "|             fantasy|   4.0|3.9342243113493263|\n",
      "|         sword fight|   4.5| 3.383096665556985|\n",
      "|             revenge|   4.5|  4.17477032821058|\n",
      "|Oscar (Best Cinem...|   4.5| 4.333193281409299|\n",
      "|          mel gibson|   4.5|3.4209950285333424|\n",
      "|            Medieval|   4.5| 3.384120399167407|\n",
      "|       inspirational|   4.5|3.8083361598359504|\n",
      "|          historical|   4.5|3.3842488412396095|\n",
      "|                epic|   4.5| 3.969431800894522|\n",
      "|   beautiful scenery|   4.5| 4.000485268598526|\n",
      "|              gothic|   4.5|3.8654022972501583|\n",
      "|              family|   4.5| 4.115717002848951|\n",
      "|         dark comedy|   4.5|  4.89627013221469|\n",
      "|   Christopher Lloyd|   4.5|3.7469362796681605|\n",
      "|     Christina Ricci|   4.5| 3.566836022723217|\n",
      "|        black comedy|   4.5| 4.639094602678131|\n",
      "|               mafia|   5.0| 4.159357567358086|\n",
      "|Francis Ford Coppola|   5.0|3.5384851670747057|\n",
      "+--------------------+------+------------------+\n",
      "only showing top 50 rows\n",
      "\n"
     ]
    },
    {
     "name": "stderr",
     "output_type": "stream",
     "text": [
      "                                                                                \r"
     ]
    }
   ],
   "source": [
    "tag_rating_pred_df.show(50)"
   ]
  },
  {
   "cell_type": "code",
   "execution_count": 143,
   "id": "543113f2-d276-409b-bb31-f99b52b84405",
   "metadata": {},
   "outputs": [],
   "source": [
    "# rmse\n",
    "# formula: sqrt( sum( (y_pred - y_true)^2 ) / n )\n",
    "# sum / n = avg"
   ]
  },
  {
   "cell_type": "code",
   "execution_count": 141,
   "id": "7903e337-5e5a-42ac-92e5-521f5451b689",
   "metadata": {},
   "outputs": [
    {
     "name": "stderr",
     "output_type": "stream",
     "text": [
      "[Stage 128:>                                                        (0 + 1) / 1]\r"
     ]
    },
    {
     "name": "stdout",
     "output_type": "stream",
     "text": [
      "+------------------+\n",
      "|              rmse|\n",
      "+------------------+\n",
      "|0.8734283467400913|\n",
      "+------------------+\n",
      "\n"
     ]
    },
    {
     "name": "stderr",
     "output_type": "stream",
     "text": [
      "                                                                                \r"
     ]
    }
   ],
   "source": [
    "tag_rating_pred_df.select(f.sqrt(f.avg(f.pow(f.col('rating') - f.col('pred_rating'), 2))).alias('rmse')).show()"
   ]
  },
  {
   "cell_type": "markdown",
   "id": "88b02d0d-c87f-43ec-aa24-265fad506dbb",
   "metadata": {},
   "source": [
    "### Все скриншоты находятся в соседней папке /images/block3"
   ]
  },
  {
   "cell_type": "code",
   "execution_count": null,
   "id": "96a0e2e6-49f3-47a9-8a6a-c1bbbc0765eb",
   "metadata": {},
   "outputs": [],
   "source": []
  }
 ],
 "metadata": {
  "kernelspec": {
   "display_name": "Python 3 (ipykernel)",
   "language": "python",
   "name": "python3"
  },
  "language_info": {
   "codemirror_mode": {
    "name": "ipython",
    "version": 3
   },
   "file_extension": ".py",
   "mimetype": "text/x-python",
   "name": "python",
   "nbconvert_exporter": "python",
   "pygments_lexer": "ipython3",
   "version": "3.10.12"
  }
 },
 "nbformat": 4,
 "nbformat_minor": 5
}
